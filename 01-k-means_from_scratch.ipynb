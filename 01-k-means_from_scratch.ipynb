{
 "cells": [
  {
   "cell_type": "code",
   "execution_count": 1,
   "metadata": {},
   "outputs": [],
   "source": [
    "import numpy as np\n",
    "from sklearn.datasets import make_blobs\n",
    "import pandas as pd\n",
    "import matplotlib.pyplot as plt\n",
    "import matplotlib.cm as cm\n",
    "\n",
    "import random\n",
    "from sklearn.preprocessing import StandardScaler\n",
    "%matplotlib inline"
   ]
  },
  {
   "cell_type": "code",
   "execution_count": 2,
   "metadata": {},
   "outputs": [
    {
     "data": {
      "text/html": [
       "<div>\n",
       "<style scoped>\n",
       "    .dataframe tbody tr th:only-of-type {\n",
       "        vertical-align: middle;\n",
       "    }\n",
       "\n",
       "    .dataframe tbody tr th {\n",
       "        vertical-align: top;\n",
       "    }\n",
       "\n",
       "    .dataframe thead th {\n",
       "        text-align: right;\n",
       "    }\n",
       "</style>\n",
       "<table border=\"1\" class=\"dataframe\">\n",
       "  <thead>\n",
       "    <tr style=\"text-align: right;\">\n",
       "      <th></th>\n",
       "      <th>col1</th>\n",
       "      <th>col2</th>\n",
       "    </tr>\n",
       "  </thead>\n",
       "  <tbody>\n",
       "    <tr>\n",
       "      <th>0</th>\n",
       "      <td>-0.288390</td>\n",
       "      <td>-9.911921</td>\n",
       "    </tr>\n",
       "    <tr>\n",
       "      <th>1</th>\n",
       "      <td>9.056103</td>\n",
       "      <td>1.020104</td>\n",
       "    </tr>\n",
       "    <tr>\n",
       "      <th>2</th>\n",
       "      <td>-5.440328</td>\n",
       "      <td>0.680865</td>\n",
       "    </tr>\n",
       "    <tr>\n",
       "      <th>3</th>\n",
       "      <td>-1.976588</td>\n",
       "      <td>-10.113697</td>\n",
       "    </tr>\n",
       "    <tr>\n",
       "      <th>4</th>\n",
       "      <td>-9.037127</td>\n",
       "      <td>3.384706</td>\n",
       "    </tr>\n",
       "  </tbody>\n",
       "</table>\n",
       "</div>"
      ],
      "text/plain": [
       "       col1       col2\n",
       "0 -0.288390  -9.911921\n",
       "1  9.056103   1.020104\n",
       "2 -5.440328   0.680865\n",
       "3 -1.976588 -10.113697\n",
       "4 -9.037127   3.384706"
      ]
     },
     "execution_count": 2,
     "metadata": {},
     "output_type": "execute_result"
    }
   ],
   "source": [
    "X, y = make_blobs(n_samples=1000, centers=5, n_features=2, random_state=7)\n",
    "X = pd.DataFrame(X, columns=['col1', 'col2'])\n",
    "X.head()"
   ]
  },
  {
   "cell_type": "code",
   "execution_count": 3,
   "metadata": {},
   "outputs": [
    {
     "data": {
      "text/plain": [
       "<matplotlib.collections.PathCollection at 0x11c7e5390>"
      ]
     },
     "execution_count": 3,
     "metadata": {},
     "output_type": "execute_result"
    },
    {
     "data": {
      "image/png": "[encoded data removed]",
      "text/plain": [
       "<matplotlib.figure.Figure at 0x10fcc7ef0>"
      ]
     },
     "metadata": {},
     "output_type": "display_data"
    }
   ],
   "source": [
    "plt.scatter(X.col1, X.col2, s=2, color ='black')"
   ]
  },
  {
   "cell_type": "code",
   "execution_count": 4,
   "metadata": {},
   "outputs": [],
   "source": [
    "def dist(a,b, axis=None):\n",
    "    return np.linalg.norm(a-b, axis = axis)"
   ]
  },
  {
   "cell_type": "code",
   "execution_count": 5,
   "metadata": {},
   "outputs": [],
   "source": [
    "s = StandardScaler()\n",
    "X = s.fit_transform(X)"
   ]
  },
  {
   "cell_type": "code",
   "execution_count": 6,
   "metadata": {},
   "outputs": [],
   "source": [
    "class KMeans():\n",
    "    def __init__(self, k, threshold, max_iter):\n",
    "        self.k = k\n",
    "        self.threshold = threshold\n",
    "        self.max_iter = max_iter\n",
    "\n",
    "    def fit(self, X):\n",
    "        self.X = X\n",
    "        self.centroids = self.X[random.sample(range(len(self.X)), self.k)]\n",
    "        centroids_new = self.centroids.copy()\n",
    "        print(self.centroids)\n",
    "        for it in range(self.max_iter):\n",
    "            self.assigned_cluster = {i: [] for i in range(self.k)}\n",
    "            for row in range(len(self.X)):\n",
    "                assigned_idx = np.argmin(\n",
    "                    dist(self.X[row, :].reshape(1, 2), self.centroids, axis=1))\n",
    "                self.assigned_cluster[assigned_idx].append(row)\n",
    "\n",
    "            for i in range(self.k):\n",
    "                centroids_new[i] = np.mean(\n",
    "                    self.X[self.assigned_cluster[i]], axis=0)\n",
    "\n",
    "\n",
    "#             if dist(self.centroids, centroids_new) < self.threshold:\n",
    "#                 centroids = new_centroids\n",
    "#                 break;\n",
    "            self.centroids = centroids_new\n",
    "        print(f\"Stopping after {it} iterations.\")\n",
    "\n",
    "    def plot(self):\n",
    "        colours = cm.rainbow(np.linspace(0, 1, self.k))\n",
    "        fig, ax = plt.subplots()\n",
    "        for i in range(self.k):\n",
    "            ax.scatter(\n",
    "                self.X[self.assigned_cluster[i], 0],\n",
    "                self.X[self.assigned_cluster[i], 1],\n",
    "                color=colours[i],\n",
    "                s=2)\n",
    "        plt.scatter(\n",
    "            self.centroids[:, 0],\n",
    "            self.centroids[:, 1],\n",
    "            marker='*',\n",
    "            color='black')"
   ]
  },
  {
   "cell_type": "code",
   "execution_count": 10,
   "metadata": {},
   "outputs": [],
   "source": [
    "kmeans = KMeans(k=5, max_iter=1000, threshold=0.0001)"
   ]
  },
  {
   "cell_type": "code",
   "execution_count": 11,
   "metadata": {},
   "outputs": [
    {
     "name": "stdout",
     "output_type": "stream",
     "text": [
      "[[-0.27196376  0.07681062]\n",
      " [ 0.15322238 -1.61556478]\n",
      " [-1.29542666  1.11363888]\n",
      " [-0.70712338 -0.08467441]\n",
      " [-0.95083531  1.06769032]]\n",
      "Stopping after 999 iterations.\n"
     ]
    }
   ],
   "source": [
    "kmeans.fit(X)"
   ]
  },
  {
   "cell_type": "code",
   "execution_count": 12,
   "metadata": {},
   "outputs": [
    {
     "data": {
      "image/png": "[encoded data removed]",
      "text/plain": [
       "<matplotlib.figure.Figure at 0x11c91bc88>"
      ]
     },
     "metadata": {},
     "output_type": "display_data"
    }
   ],
   "source": [
    "kmeans.plot()"
   ]
  },
  {
   "cell_type": "code",
   "execution_count": null,
   "metadata": {},
   "outputs": [],
   "source": []
  }
 ],
 "metadata": {
  "kernelspec": {
   "display_name": "Python 3",
   "language": "python",
   "name": "python3"
  },
  "language_info": {
   "codemirror_mode": {
    "name": "ipython",
    "version": 3
   },
   "file_extension": ".py",
   "mimetype": "text/x-python",
   "name": "python",
   "nbconvert_exporter": "python",
   "pygments_lexer": "ipython3",
   "version": "3.6.3"
  },
  "varInspector": {
   "cols": {
    "lenName": 16,
    "lenType": 16,
    "lenVar": 40
   },
   "kernels_config": {
    "python": {
     "delete_cmd_postfix": "",
     "delete_cmd_prefix": "del ",
     "library": "var_list.py",
     "varRefreshCmd": "print(var_dic_list())"
    },
    "r": {
     "delete_cmd_postfix": ") ",
     "delete_cmd_prefix": "rm(",
     "library": "var_list.r",
     "varRefreshCmd": "cat(var_dic_list()) "
    }
   },
   "types_to_exclude": [
    "module",
    "function",
    "builtin_function_or_method",
    "instance",
    "_Feature"
   ],
   "window_display": false
  }
 },
 "nbformat": 4,
 "nbformat_minor": 2
}
